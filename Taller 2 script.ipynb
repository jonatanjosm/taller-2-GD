{
 "cells": [
  {
   "cell_type": "code",
   "execution_count": 1,
   "id": "42186c12",
   "metadata": {},
   "outputs": [],
   "source": [
    "from datetime import datetime\n",
    "\n",
    "import pymongo\n",
    "import pandas as pd\n",
    "import matplotlib.pyplot as plt\n",
    "from google.cloud import bigquery\n",
    "from google.oauth2 import service_account\n",
    "\n",
    "import matplotlib.pyplot as plt"
   ]
  },
  {
   "cell_type": "code",
   "execution_count": 2,
   "id": "6419a024",
   "metadata": {},
   "outputs": [],
   "source": [
    "DB_NAME = \"sample_supplies\"\n",
    "COLLECTION = \"sales\""
   ]
  },
  {
   "cell_type": "code",
   "execution_count": 3,
   "id": "69d8c925",
   "metadata": {},
   "outputs": [],
   "source": [
    "client = pymongo.MongoClient(\"mongodb+srv://<user>:<password>@cluster0.wuajjwg.mongodb.net/?retryWrites=true&w=majority\", server_api = pymongo.server_api.ServerApi('1'))"
   ]
  },
  {
   "cell_type": "code",
   "execution_count": 4,
   "id": "81ddefbb",
   "metadata": {},
   "outputs": [],
   "source": [
    "db = client[DB_NAME]"
   ]
  },
  {
   "cell_type": "code",
   "execution_count": 5,
   "id": "09f04913",
   "metadata": {},
   "outputs": [],
   "source": [
    "col = db[COLLECTION]"
   ]
  },
  {
   "cell_type": "code",
   "execution_count": 6,
   "id": "0eb13077",
   "metadata": {},
   "outputs": [],
   "source": [
    "credentials = service_account.Credentials.from_service_account_file(\"./jsonprep.json\", scopes = [\"https://www.googleapis.com/auth/cloud-platform\"])"
   ]
  },
  {
   "cell_type": "code",
   "execution_count": 7,
   "id": "75c3185b",
   "metadata": {},
   "outputs": [],
   "source": [
    "client = bigquery.Client(credentials = credentials, project = credentials.project_id)"
   ]
  },
  {
   "cell_type": "markdown",
   "id": "861b3532",
   "metadata": {},
   "source": [
    "## Pregunta 1:\n",
    "\n",
    "Cantidad de productos (tags) vendidos por meses del año"
   ]
  },
  {
   "cell_type": "code",
   "execution_count": 8,
   "id": "7a0b778c",
   "metadata": {},
   "outputs": [],
   "source": [
    "def build_first_object(obj):\n",
    "    newObj = []\n",
    "    \n",
    "    for x in obj:\n",
    "        for y in x[\"items\"]:\n",
    "            for z in y[\"tags\"]:\n",
    "                newObj.append({\"month\": x[\"saleDate\"].month, \"total\":y[\"quantity\"]*y[\"price\"].to_decimal(), \"tag\": z})\n",
    "    \n",
    "    return newObj"
   ]
  },
  {
   "cell_type": "code",
   "execution_count": 9,
   "id": "3d777645",
   "metadata": {},
   "outputs": [],
   "source": [
    "def build_first2_object(obj):\n",
    "    newObj = []\n",
    "    \n",
    "    for x in obj:\n",
    "        for y in x[\"items\"]:\n",
    "            for z in y[\"tags\"]:\n",
    "                newObj.append({\"month\": x[\"saleDate\"].month, \"quantity\":y[\"quantity\"], \"tag\": z})\n",
    "    \n",
    "    return newObj"
   ]
  },
  {
   "cell_type": "code",
   "execution_count": 10,
   "id": "9d7d6181",
   "metadata": {},
   "outputs": [],
   "source": [
    "result1 = col.find({}, {\"_id\": 0, \"items.name\":1, \"items.tags\": 1, \"items.quantity\": 1, \"items.price\": 1, \"saleDate\": 1})\n",
    "result1_ready = build_first_object(result1)\n",
    "\n",
    "result12 = col.find({}, {\"_id\": 0, \"items.name\":1, \"items.tags\": 1, \"items.quantity\": 1, \"saleDate\": 1})\n",
    "result12_ready = build_first2_object(result12)\n"
   ]
  },
  {
   "cell_type": "code",
   "execution_count": 11,
   "id": "2578ddfd",
   "metadata": {},
   "outputs": [],
   "source": [
    "df_1 = pd.json_normalize(result1_ready)\n",
    "df_12 = pd.json_normalize(result12_ready)"
   ]
  },
  {
   "cell_type": "code",
   "execution_count": 12,
   "id": "468a2259",
   "metadata": {},
   "outputs": [
    {
     "data": {
      "text/html": [
       "<div>\n",
       "<style scoped>\n",
       "    .dataframe tbody tr th:only-of-type {\n",
       "        vertical-align: middle;\n",
       "    }\n",
       "\n",
       "    .dataframe tbody tr th {\n",
       "        vertical-align: top;\n",
       "    }\n",
       "\n",
       "    .dataframe thead th {\n",
       "        text-align: right;\n",
       "    }\n",
       "</style>\n",
       "<table border=\"1\" class=\"dataframe\">\n",
       "  <thead>\n",
       "    <tr style=\"text-align: right;\">\n",
       "      <th></th>\n",
       "      <th>month</th>\n",
       "      <th>total</th>\n",
       "      <th>tag</th>\n",
       "    </tr>\n",
       "  </thead>\n",
       "  <tbody>\n",
       "    <tr>\n",
       "      <th>0</th>\n",
       "      <td>3</td>\n",
       "      <td>80.02</td>\n",
       "      <td>office</td>\n",
       "    </tr>\n",
       "    <tr>\n",
       "      <th>1</th>\n",
       "      <td>3</td>\n",
       "      <td>80.02</td>\n",
       "      <td>stationary</td>\n",
       "    </tr>\n",
       "    <tr>\n",
       "      <th>2</th>\n",
       "      <td>3</td>\n",
       "      <td>70.58</td>\n",
       "      <td>office</td>\n",
       "    </tr>\n",
       "    <tr>\n",
       "      <th>3</th>\n",
       "      <td>3</td>\n",
       "      <td>70.58</td>\n",
       "      <td>writing</td>\n",
       "    </tr>\n",
       "    <tr>\n",
       "      <th>4</th>\n",
       "      <td>3</td>\n",
       "      <td>70.58</td>\n",
       "      <td>school</td>\n",
       "    </tr>\n",
       "  </tbody>\n",
       "</table>\n",
       "</div>"
      ],
      "text/plain": [
       "   month  total         tag\n",
       "0      3  80.02      office\n",
       "1      3  80.02  stationary\n",
       "2      3  70.58      office\n",
       "3      3  70.58     writing\n",
       "4      3  70.58      school"
      ]
     },
     "execution_count": 12,
     "metadata": {},
     "output_type": "execute_result"
    }
   ],
   "source": [
    "df_1.head(5)"
   ]
  },
  {
   "cell_type": "code",
   "execution_count": 13,
   "id": "308b59aa",
   "metadata": {},
   "outputs": [
    {
     "data": {
      "text/html": [
       "<div>\n",
       "<style scoped>\n",
       "    .dataframe tbody tr th:only-of-type {\n",
       "        vertical-align: middle;\n",
       "    }\n",
       "\n",
       "    .dataframe tbody tr th {\n",
       "        vertical-align: top;\n",
       "    }\n",
       "\n",
       "    .dataframe thead th {\n",
       "        text-align: right;\n",
       "    }\n",
       "</style>\n",
       "<table border=\"1\" class=\"dataframe\">\n",
       "  <thead>\n",
       "    <tr style=\"text-align: right;\">\n",
       "      <th></th>\n",
       "      <th>month</th>\n",
       "      <th>quantity</th>\n",
       "      <th>tag</th>\n",
       "    </tr>\n",
       "  </thead>\n",
       "  <tbody>\n",
       "    <tr>\n",
       "      <th>0</th>\n",
       "      <td>3</td>\n",
       "      <td>2</td>\n",
       "      <td>office</td>\n",
       "    </tr>\n",
       "    <tr>\n",
       "      <th>1</th>\n",
       "      <td>3</td>\n",
       "      <td>2</td>\n",
       "      <td>stationary</td>\n",
       "    </tr>\n",
       "    <tr>\n",
       "      <th>2</th>\n",
       "      <td>3</td>\n",
       "      <td>2</td>\n",
       "      <td>office</td>\n",
       "    </tr>\n",
       "    <tr>\n",
       "      <th>3</th>\n",
       "      <td>3</td>\n",
       "      <td>2</td>\n",
       "      <td>writing</td>\n",
       "    </tr>\n",
       "    <tr>\n",
       "      <th>4</th>\n",
       "      <td>3</td>\n",
       "      <td>2</td>\n",
       "      <td>school</td>\n",
       "    </tr>\n",
       "  </tbody>\n",
       "</table>\n",
       "</div>"
      ],
      "text/plain": [
       "   month  quantity         tag\n",
       "0      3         2      office\n",
       "1      3         2  stationary\n",
       "2      3         2      office\n",
       "3      3         2     writing\n",
       "4      3         2      school"
      ]
     },
     "execution_count": 13,
     "metadata": {},
     "output_type": "execute_result"
    }
   ],
   "source": [
    "df_12.head(5)"
   ]
  },
  {
   "cell_type": "code",
   "execution_count": 14,
   "id": "4423b083",
   "metadata": {},
   "outputs": [],
   "source": [
    "df_1['month'] = pd.Categorical(df_1['month'])\n",
    "df_1['tag'] = pd.Categorical(df_1['tag'])\n",
    "\n",
    "df_12['month'] = pd.Categorical(df_12['month'])\n",
    "df_12['tag'] = pd.Categorical(df_12['tag'])"
   ]
  },
  {
   "cell_type": "code",
   "execution_count": 15,
   "id": "1eb09de1",
   "metadata": {},
   "outputs": [
    {
     "data": {
      "text/plain": [
       "month    category\n",
       "total      object\n",
       "tag      category\n",
       "dtype: object"
      ]
     },
     "execution_count": 15,
     "metadata": {},
     "output_type": "execute_result"
    }
   ],
   "source": [
    "df_1.dtypes"
   ]
  },
  {
   "cell_type": "code",
   "execution_count": 16,
   "id": "f3ec4b95",
   "metadata": {},
   "outputs": [
    {
     "data": {
      "text/plain": [
       "['office', 'stationary', 'writing', 'school', 'travel', 'kids', 'general', 'organization', 'electronics']\n",
       "Categories (9, object): ['electronics', 'general', 'kids', 'office', ..., 'school', 'stationary', 'travel', 'writing']"
      ]
     },
     "execution_count": 16,
     "metadata": {},
     "output_type": "execute_result"
    }
   ],
   "source": [
    "df_1['tag'].unique()"
   ]
  },
  {
   "cell_type": "markdown",
   "id": "ad3b5362",
   "metadata": {},
   "source": [
    "### Por precio"
   ]
  },
  {
   "cell_type": "code",
   "execution_count": 17,
   "id": "11b9838d",
   "metadata": {},
   "outputs": [],
   "source": [
    "data_ready = df_1.groupby(['month', 'tag']).sum()"
   ]
  },
  {
   "cell_type": "code",
   "execution_count": 18,
   "id": "105e1a6b",
   "metadata": {},
   "outputs": [],
   "source": [
    "job_config = bigquery.LoadJobConfig(\n",
    "    schema = [\n",
    "        # Supported datatypes: https://cloud.google.com/bigquery/docs/reference/standard-sql/data-types\n",
    "        bigquery.SchemaField(\"month\", bigquery.enums.SqlTypeNames.INT64),\n",
    "        bigquery.SchemaField(\"tag\", bigquery.enums.SqlTypeNames.STRING),\n",
    "        bigquery.SchemaField(\"total\", bigquery.enums.SqlTypeNames.INT64)\n",
    "    ],\n",
    "    # Drod and re-create table, if exist\n",
    "    write_disposition = \"WRITE_TRUNCATE\",\n",
    ")"
   ]
  },
  {
   "cell_type": "code",
   "execution_count": 19,
   "id": "cda891a9",
   "metadata": {},
   "outputs": [],
   "source": [
    "BQ_TABLE_NAME = \"dataprep.tags_per_month_price_mj\""
   ]
  },
  {
   "cell_type": "code",
   "execution_count": 20,
   "id": "5f95b311",
   "metadata": {},
   "outputs": [
    {
     "data": {
      "text/plain": [
       "LoadJob<project=javeriana-dataprep, location=us-central1, id=6f7676a1-bb9d-4db8-a0ec-b2b36955f5b8>"
      ]
     },
     "execution_count": 20,
     "metadata": {},
     "output_type": "execute_result"
    }
   ],
   "source": [
    "job = client.load_table_from_dataframe(\n",
    "    data_ready, BQ_TABLE_NAME, job_config = job_config\n",
    ")\n",
    "\n",
    "job.result()"
   ]
  },
  {
   "cell_type": "code",
   "execution_count": 21,
   "id": "696f7b0e",
   "metadata": {},
   "outputs": [
    {
     "name": "stdout",
     "output_type": "stream",
     "text": [
      "Loaded 108 rows and 3 columns to dataprep.tags_per_month_price_mj\n"
     ]
    }
   ],
   "source": [
    "table = client.get_table(BQ_TABLE_NAME)\n",
    "\n",
    "print(\"Loaded {} rows and {} columns to {}\".format(table.num_rows, len(table.schema), BQ_TABLE_NAME))"
   ]
  },
  {
   "cell_type": "code",
   "execution_count": 22,
   "id": "5ee5274b",
   "metadata": {},
   "outputs": [],
   "source": [
    "query = \"\"\"SELECT * FROM `javeriana-dataprep.dataprep.tags_per_month_price_mj`\"\"\"\n",
    "\n",
    "df1_bigQ = pd.read_gbq(query, credentials = credentials)\n",
    "\n",
    "df1_bigQ['month'] = pd.Categorical(df1_bigQ['month'])\n",
    "df1_bigQ['tag'] = pd.Categorical(df1_bigQ['tag'])"
   ]
  },
  {
   "cell_type": "code",
   "execution_count": 23,
   "id": "30fe84b8",
   "metadata": {},
   "outputs": [],
   "source": [
    "df1_bigQ = df1_bigQ.groupby(['month', 'tag']).sum()"
   ]
  },
  {
   "cell_type": "code",
   "execution_count": 24,
   "id": "ecabcf68",
   "metadata": {},
   "outputs": [
    {
     "data": {
      "text/plain": [
       "<AxesSubplot:xlabel='month'>"
      ]
     },
     "execution_count": 24,
     "metadata": {},
     "output_type": "execute_result"
    },
    {
     "data": {
      "image/png": "[encoded data removed]",
      "text/plain": [
       "<Figure size 1080x720 with 1 Axes>"
      ]
     },
     "metadata": {
      "needs_background": "light"
     },
     "output_type": "display_data"
    }
   ],
   "source": [
    "df1_bigQ.unstack().plot(figsize=(15,10))"
   ]
  },
  {
   "cell_type": "markdown",
   "id": "be12bd43",
   "metadata": {},
   "source": [
    "### Por cantidad"
   ]
  },
  {
   "cell_type": "code",
   "execution_count": 25,
   "id": "60459681",
   "metadata": {},
   "outputs": [],
   "source": [
    "data_ready12 = df_12.groupby(['month', 'tag']).sum()"
   ]
  },
  {
   "cell_type": "code",
   "execution_count": 26,
   "id": "a66e7888",
   "metadata": {},
   "outputs": [],
   "source": [
    "job_config = bigquery.LoadJobConfig(\n",
    "    schema = [\n",
    "        # Supported datatypes: https://cloud.google.com/bigquery/docs/reference/standard-sql/data-types\n",
    "        bigquery.SchemaField(\"month\", bigquery.enums.SqlTypeNames.INT64),\n",
    "        bigquery.SchemaField(\"tag\", bigquery.enums.SqlTypeNames.STRING),\n",
    "        bigquery.SchemaField(\"quantity\", bigquery.enums.SqlTypeNames.INT64)\n",
    "    ],\n",
    "    # Drod and re-create table, if exist\n",
    "    write_disposition = \"WRITE_TRUNCATE\",\n",
    ")"
   ]
  },
  {
   "cell_type": "code",
   "execution_count": 27,
   "id": "1cf80ce1",
   "metadata": {},
   "outputs": [],
   "source": [
    "BQ_TABLE_NAME = \"dataprep.tags_per_month_mj\""
   ]
  },
  {
   "cell_type": "code",
   "execution_count": 28,
   "id": "66452c3c",
   "metadata": {},
   "outputs": [
    {
     "data": {
      "text/plain": [
       "LoadJob<project=javeriana-dataprep, location=us-central1, id=5aa96306-beae-4773-8b7a-613a8eceace9>"
      ]
     },
     "execution_count": 28,
     "metadata": {},
     "output_type": "execute_result"
    }
   ],
   "source": [
    "job = client.load_table_from_dataframe(\n",
    "    data_ready12, BQ_TABLE_NAME, job_config = job_config\n",
    ")\n",
    "\n",
    "job.result()"
   ]
  },
  {
   "cell_type": "code",
   "execution_count": 29,
   "id": "7ab64576",
   "metadata": {
    "scrolled": true
   },
   "outputs": [
    {
     "name": "stdout",
     "output_type": "stream",
     "text": [
      "Loaded 108 rows and 3 columns to dataprep.tags_per_month_mj\n"
     ]
    }
   ],
   "source": [
    "table = client.get_table(BQ_TABLE_NAME)\n",
    "\n",
    "print(\"Loaded {} rows and {} columns to {}\".format(table.num_rows, len(table.schema), BQ_TABLE_NAME))"
   ]
  },
  {
   "cell_type": "code",
   "execution_count": 30,
   "id": "140e70ac",
   "metadata": {},
   "outputs": [],
   "source": [
    "query = \"\"\"SELECT * FROM `javeriana-dataprep.dataprep.tags_per_month_mj`\"\"\"\n",
    "\n",
    "df12_bigQ = pd.read_gbq(query, credentials = credentials)\n",
    "\n",
    "df12_bigQ['month'] = pd.Categorical(df12_bigQ['month'])\n",
    "df12_bigQ['tag'] = pd.Categorical(df12_bigQ['tag'])"
   ]
  },
  {
   "cell_type": "code",
   "execution_count": 31,
   "id": "c21d4c45",
   "metadata": {},
   "outputs": [],
   "source": [
    "df12_bigQ = df12_bigQ.groupby(['month', 'tag']).sum()"
   ]
  },
  {
   "cell_type": "code",
   "execution_count": 32,
   "id": "842548cc",
   "metadata": {},
   "outputs": [
    {
     "data": {
      "text/plain": [
       "<AxesSubplot:xlabel='month'>"
      ]
     },
     "execution_count": 32,
     "metadata": {},
     "output_type": "execute_result"
    },
    {
     "data": {
      "image/png": "[encoded data removed]",
      "text/plain": [
       "<Figure size 1080x720 with 1 Axes>"
      ]
     },
     "metadata": {
      "needs_background": "light"
     },
     "output_type": "display_data"
    }
   ],
   "source": [
    "df12_bigQ.unstack().plot(figsize=(15,10))"
   ]
  },
  {
   "cell_type": "markdown",
   "id": "aa8a3853-1b52-4204-916a-8966072ef8b7",
   "metadata": {},
   "source": [
    "## Pregunta 3:\n",
    "Proporcion metodos de compras por grupos de edades"
   ]
  },
  {
   "cell_type": "code",
   "execution_count": 33,
   "id": "586a7fdb",
   "metadata": {},
   "outputs": [],
   "source": [
    "result3 = col.find({}, {\"_id\": 0, \"customer.age\":1, \"purchaseMethod\": 1})"
   ]
  },
  {
   "cell_type": "code",
   "execution_count": 34,
   "id": "41a007cc",
   "metadata": {},
   "outputs": [],
   "source": [
    "df_3 = pd.json_normalize(result3).rename(columns={\"customer.age\":\"age\"})"
   ]
  },
  {
   "cell_type": "code",
   "execution_count": 35,
   "id": "e1dce480",
   "metadata": {},
   "outputs": [
    {
     "data": {
      "text/html": [
       "<div>\n",
       "<style scoped>\n",
       "    .dataframe tbody tr th:only-of-type {\n",
       "        vertical-align: middle;\n",
       "    }\n",
       "\n",
       "    .dataframe tbody tr th {\n",
       "        vertical-align: top;\n",
       "    }\n",
       "\n",
       "    .dataframe thead th {\n",
       "        text-align: right;\n",
       "    }\n",
       "</style>\n",
       "<table border=\"1\" class=\"dataframe\">\n",
       "  <thead>\n",
       "    <tr style=\"text-align: right;\">\n",
       "      <th></th>\n",
       "      <th>purchaseMethod</th>\n",
       "      <th>age</th>\n",
       "    </tr>\n",
       "  </thead>\n",
       "  <tbody>\n",
       "    <tr>\n",
       "      <th>0</th>\n",
       "      <td>Online</td>\n",
       "      <td>42</td>\n",
       "    </tr>\n",
       "    <tr>\n",
       "      <th>1</th>\n",
       "      <td>Phone</td>\n",
       "      <td>50</td>\n",
       "    </tr>\n",
       "    <tr>\n",
       "      <th>2</th>\n",
       "      <td>In store</td>\n",
       "      <td>51</td>\n",
       "    </tr>\n",
       "    <tr>\n",
       "      <th>3</th>\n",
       "      <td>In store</td>\n",
       "      <td>45</td>\n",
       "    </tr>\n",
       "    <tr>\n",
       "      <th>4</th>\n",
       "      <td>In store</td>\n",
       "      <td>40</td>\n",
       "    </tr>\n",
       "    <tr>\n",
       "      <th>...</th>\n",
       "      <td>...</td>\n",
       "      <td>...</td>\n",
       "    </tr>\n",
       "    <tr>\n",
       "      <th>4995</th>\n",
       "      <td>In store</td>\n",
       "      <td>45</td>\n",
       "    </tr>\n",
       "    <tr>\n",
       "      <th>4996</th>\n",
       "      <td>In store</td>\n",
       "      <td>47</td>\n",
       "    </tr>\n",
       "    <tr>\n",
       "      <th>4997</th>\n",
       "      <td>In store</td>\n",
       "      <td>29</td>\n",
       "    </tr>\n",
       "    <tr>\n",
       "      <th>4998</th>\n",
       "      <td>Online</td>\n",
       "      <td>59</td>\n",
       "    </tr>\n",
       "    <tr>\n",
       "      <th>4999</th>\n",
       "      <td>Online</td>\n",
       "      <td>33</td>\n",
       "    </tr>\n",
       "  </tbody>\n",
       "</table>\n",
       "<p>5000 rows × 2 columns</p>\n",
       "</div>"
      ],
      "text/plain": [
       "     purchaseMethod  age\n",
       "0            Online   42\n",
       "1             Phone   50\n",
       "2          In store   51\n",
       "3          In store   45\n",
       "4          In store   40\n",
       "...             ...  ...\n",
       "4995       In store   45\n",
       "4996       In store   47\n",
       "4997       In store   29\n",
       "4998         Online   59\n",
       "4999         Online   33\n",
       "\n",
       "[5000 rows x 2 columns]"
      ]
     },
     "execution_count": 35,
     "metadata": {},
     "output_type": "execute_result"
    }
   ],
   "source": [
    "df_3"
   ]
  },
  {
   "cell_type": "code",
   "execution_count": 36,
   "id": "2a21e86e",
   "metadata": {},
   "outputs": [
    {
     "data": {
      "text/plain": [
       "75"
      ]
     },
     "execution_count": 36,
     "metadata": {},
     "output_type": "execute_result"
    }
   ],
   "source": [
    "df_3['age'].max()\n"
   ]
  },
  {
   "cell_type": "code",
   "execution_count": 37,
   "id": "8788e95c",
   "metadata": {},
   "outputs": [
    {
     "data": {
      "text/plain": [
       "16"
      ]
     },
     "execution_count": 37,
     "metadata": {},
     "output_type": "execute_result"
    }
   ],
   "source": [
    "df_3['age'].min()"
   ]
  },
  {
   "cell_type": "code",
   "execution_count": 38,
   "id": "2ec883cb",
   "metadata": {},
   "outputs": [],
   "source": [
    "def build_third_object(x):\n",
    "    if x>10 and x<=20:\n",
    "        return \"10-20\"\n",
    "    elif x>20 and x<=30:\n",
    "        return \"20-30\"\n",
    "    elif x>30 and x<=40:\n",
    "        return \"30-40\"\n",
    "    elif x>40 and x<=50:\n",
    "        return \"40-50\"\n",
    "    elif x>50 and x<=60:\n",
    "        return \"50-60\"\n",
    "    elif x>60 and x<=70:\n",
    "        return \"60-70\"\n",
    "    elif x>70 and x<=80:\n",
    "        return \"70-80\""
   ]
  },
  {
   "cell_type": "code",
   "execution_count": 39,
   "id": "90780c27",
   "metadata": {},
   "outputs": [],
   "source": [
    "df_3['group'] = df_3['age'].apply(build_third_object)\n",
    "df_3.drop('age', inplace=True, axis=1)"
   ]
  },
  {
   "cell_type": "code",
   "execution_count": 40,
   "id": "3d97d016",
   "metadata": {},
   "outputs": [
    {
     "data": {
      "text/html": [
       "<div>\n",
       "<style scoped>\n",
       "    .dataframe tbody tr th:only-of-type {\n",
       "        vertical-align: middle;\n",
       "    }\n",
       "\n",
       "    .dataframe tbody tr th {\n",
       "        vertical-align: top;\n",
       "    }\n",
       "\n",
       "    .dataframe thead th {\n",
       "        text-align: right;\n",
       "    }\n",
       "</style>\n",
       "<table border=\"1\" class=\"dataframe\">\n",
       "  <thead>\n",
       "    <tr style=\"text-align: right;\">\n",
       "      <th></th>\n",
       "      <th>purchaseMethod</th>\n",
       "      <th>group</th>\n",
       "    </tr>\n",
       "  </thead>\n",
       "  <tbody>\n",
       "    <tr>\n",
       "      <th>0</th>\n",
       "      <td>Online</td>\n",
       "      <td>40-50</td>\n",
       "    </tr>\n",
       "    <tr>\n",
       "      <th>1</th>\n",
       "      <td>Phone</td>\n",
       "      <td>40-50</td>\n",
       "    </tr>\n",
       "    <tr>\n",
       "      <th>2</th>\n",
       "      <td>In store</td>\n",
       "      <td>50-60</td>\n",
       "    </tr>\n",
       "    <tr>\n",
       "      <th>3</th>\n",
       "      <td>In store</td>\n",
       "      <td>40-50</td>\n",
       "    </tr>\n",
       "    <tr>\n",
       "      <th>4</th>\n",
       "      <td>In store</td>\n",
       "      <td>30-40</td>\n",
       "    </tr>\n",
       "    <tr>\n",
       "      <th>...</th>\n",
       "      <td>...</td>\n",
       "      <td>...</td>\n",
       "    </tr>\n",
       "    <tr>\n",
       "      <th>4995</th>\n",
       "      <td>In store</td>\n",
       "      <td>40-50</td>\n",
       "    </tr>\n",
       "    <tr>\n",
       "      <th>4996</th>\n",
       "      <td>In store</td>\n",
       "      <td>40-50</td>\n",
       "    </tr>\n",
       "    <tr>\n",
       "      <th>4997</th>\n",
       "      <td>In store</td>\n",
       "      <td>20-30</td>\n",
       "    </tr>\n",
       "    <tr>\n",
       "      <th>4998</th>\n",
       "      <td>Online</td>\n",
       "      <td>50-60</td>\n",
       "    </tr>\n",
       "    <tr>\n",
       "      <th>4999</th>\n",
       "      <td>Online</td>\n",
       "      <td>30-40</td>\n",
       "    </tr>\n",
       "  </tbody>\n",
       "</table>\n",
       "<p>5000 rows × 2 columns</p>\n",
       "</div>"
      ],
      "text/plain": [
       "     purchaseMethod  group\n",
       "0            Online  40-50\n",
       "1             Phone  40-50\n",
       "2          In store  50-60\n",
       "3          In store  40-50\n",
       "4          In store  30-40\n",
       "...             ...    ...\n",
       "4995       In store  40-50\n",
       "4996       In store  40-50\n",
       "4997       In store  20-30\n",
       "4998         Online  50-60\n",
       "4999         Online  30-40\n",
       "\n",
       "[5000 rows x 2 columns]"
      ]
     },
     "execution_count": 40,
     "metadata": {},
     "output_type": "execute_result"
    }
   ],
   "source": [
    "df_3"
   ]
  },
  {
   "cell_type": "code",
   "execution_count": 41,
   "id": "fa05021e",
   "metadata": {},
   "outputs": [],
   "source": [
    "df_3['group'] = pd.Categorical(df_3['group'])\n",
    "df_3['purchaseMethod'] = pd.Categorical(df_3['purchaseMethod'])"
   ]
  },
  {
   "cell_type": "code",
   "execution_count": 42,
   "id": "40fc4e12",
   "metadata": {},
   "outputs": [
    {
     "data": {
      "text/html": [
       "<div>\n",
       "<style scoped>\n",
       "    .dataframe tbody tr th:only-of-type {\n",
       "        vertical-align: middle;\n",
       "    }\n",
       "\n",
       "    .dataframe tbody tr th {\n",
       "        vertical-align: top;\n",
       "    }\n",
       "\n",
       "    .dataframe thead th {\n",
       "        text-align: right;\n",
       "    }\n",
       "</style>\n",
       "<table border=\"1\" class=\"dataframe\">\n",
       "  <thead>\n",
       "    <tr style=\"text-align: right;\">\n",
       "      <th></th>\n",
       "      <th>purchaseMethod</th>\n",
       "      <th>group</th>\n",
       "    </tr>\n",
       "  </thead>\n",
       "  <tbody>\n",
       "    <tr>\n",
       "      <th>0</th>\n",
       "      <td>Online</td>\n",
       "      <td>40-50</td>\n",
       "    </tr>\n",
       "    <tr>\n",
       "      <th>1</th>\n",
       "      <td>Phone</td>\n",
       "      <td>40-50</td>\n",
       "    </tr>\n",
       "    <tr>\n",
       "      <th>2</th>\n",
       "      <td>In store</td>\n",
       "      <td>50-60</td>\n",
       "    </tr>\n",
       "    <tr>\n",
       "      <th>3</th>\n",
       "      <td>In store</td>\n",
       "      <td>40-50</td>\n",
       "    </tr>\n",
       "    <tr>\n",
       "      <th>4</th>\n",
       "      <td>In store</td>\n",
       "      <td>30-40</td>\n",
       "    </tr>\n",
       "    <tr>\n",
       "      <th>...</th>\n",
       "      <td>...</td>\n",
       "      <td>...</td>\n",
       "    </tr>\n",
       "    <tr>\n",
       "      <th>4995</th>\n",
       "      <td>In store</td>\n",
       "      <td>40-50</td>\n",
       "    </tr>\n",
       "    <tr>\n",
       "      <th>4996</th>\n",
       "      <td>In store</td>\n",
       "      <td>40-50</td>\n",
       "    </tr>\n",
       "    <tr>\n",
       "      <th>4997</th>\n",
       "      <td>In store</td>\n",
       "      <td>20-30</td>\n",
       "    </tr>\n",
       "    <tr>\n",
       "      <th>4998</th>\n",
       "      <td>Online</td>\n",
       "      <td>50-60</td>\n",
       "    </tr>\n",
       "    <tr>\n",
       "      <th>4999</th>\n",
       "      <td>Online</td>\n",
       "      <td>30-40</td>\n",
       "    </tr>\n",
       "  </tbody>\n",
       "</table>\n",
       "<p>5000 rows × 2 columns</p>\n",
       "</div>"
      ],
      "text/plain": [
       "     purchaseMethod  group\n",
       "0            Online  40-50\n",
       "1             Phone  40-50\n",
       "2          In store  50-60\n",
       "3          In store  40-50\n",
       "4          In store  30-40\n",
       "...             ...    ...\n",
       "4995       In store  40-50\n",
       "4996       In store  40-50\n",
       "4997       In store  20-30\n",
       "4998         Online  50-60\n",
       "4999         Online  30-40\n",
       "\n",
       "[5000 rows x 2 columns]"
      ]
     },
     "execution_count": 42,
     "metadata": {},
     "output_type": "execute_result"
    }
   ],
   "source": [
    "df_3"
   ]
  },
  {
   "cell_type": "markdown",
   "id": "4cabb132",
   "metadata": {},
   "source": [
    "### To bigQuery"
   ]
  },
  {
   "cell_type": "code",
   "execution_count": 43,
   "id": "50fb2ac7",
   "metadata": {},
   "outputs": [],
   "source": [
    "job_config = bigquery.LoadJobConfig(\n",
    "    schema = [\n",
    "        # Supported datatypes: https://cloud.google.com/bigquery/docs/reference/standard-sql/data-types\n",
    "        bigquery.SchemaField(\"purchaseMethod\", bigquery.enums.SqlTypeNames.STRING),\n",
    "        bigquery.SchemaField(\"group\", bigquery.enums.SqlTypeNames.STRING)\n",
    "    ],\n",
    "    # Drod and re-create table, if exist\n",
    "    write_disposition = \"WRITE_TRUNCATE\",\n",
    ")"
   ]
  },
  {
   "cell_type": "code",
   "execution_count": 44,
   "id": "4b050a35",
   "metadata": {},
   "outputs": [],
   "source": [
    "BQ_TABLE_NAME = \"dataprep.purchaseMethod_per_group_mj\""
   ]
  },
  {
   "cell_type": "code",
   "execution_count": 45,
   "id": "b1faf536",
   "metadata": {},
   "outputs": [
    {
     "data": {
      "text/plain": [
       "LoadJob<project=javeriana-dataprep, location=us-central1, id=4d382bbb-c00e-4deb-ae55-4ad9dec5edae>"
      ]
     },
     "execution_count": 45,
     "metadata": {},
     "output_type": "execute_result"
    }
   ],
   "source": [
    "job = client.load_table_from_dataframe(\n",
    "    df_3, BQ_TABLE_NAME, job_config = job_config\n",
    ")\n",
    "\n",
    "job.result()"
   ]
  },
  {
   "cell_type": "code",
   "execution_count": 46,
   "id": "c6359f12",
   "metadata": {
    "scrolled": true
   },
   "outputs": [
    {
     "name": "stdout",
     "output_type": "stream",
     "text": [
      "Loaded 5000 rows and 2 columns to dataprep.purchaseMethod_per_group_mj\n"
     ]
    }
   ],
   "source": [
    "table = client.get_table(BQ_TABLE_NAME)\n",
    "\n",
    "print(\"Loaded {} rows and {} columns to {}\".format(table.num_rows, len(table.schema), BQ_TABLE_NAME))"
   ]
  },
  {
   "cell_type": "code",
   "execution_count": 47,
   "id": "c302f523",
   "metadata": {},
   "outputs": [],
   "source": [
    "query = \"\"\"SELECT * FROM `javeriana-dataprep.dataprep.purchaseMethod_per_group_mj`\"\"\"\n",
    "\n",
    "df3_bigQ = pd.read_gbq(query, credentials = credentials)\n",
    "\n",
    "df3_bigQ['purchaseMethod'] = pd.Categorical(df3_bigQ['purchaseMethod'])\n",
    "df3_bigQ['group'] = pd.Categorical(df3_bigQ['group'])"
   ]
  },
  {
   "cell_type": "code",
   "execution_count": 48,
   "id": "5c3f7f22",
   "metadata": {},
   "outputs": [
    {
     "data": {
      "text/html": [
       "<div>\n",
       "<style scoped>\n",
       "    .dataframe tbody tr th:only-of-type {\n",
       "        vertical-align: middle;\n",
       "    }\n",
       "\n",
       "    .dataframe tbody tr th {\n",
       "        vertical-align: top;\n",
       "    }\n",
       "\n",
       "    .dataframe thead th {\n",
       "        text-align: right;\n",
       "    }\n",
       "</style>\n",
       "<table border=\"1\" class=\"dataframe\">\n",
       "  <thead>\n",
       "    <tr style=\"text-align: right;\">\n",
       "      <th></th>\n",
       "      <th>group</th>\n",
       "      <th>purchaseMethod</th>\n",
       "      <th>counts</th>\n",
       "    </tr>\n",
       "  </thead>\n",
       "  <tbody>\n",
       "    <tr>\n",
       "      <th>0</th>\n",
       "      <td>10-20</td>\n",
       "      <td>In store</td>\n",
       "      <td>117</td>\n",
       "    </tr>\n",
       "    <tr>\n",
       "      <th>1</th>\n",
       "      <td>10-20</td>\n",
       "      <td>Online</td>\n",
       "      <td>75</td>\n",
       "    </tr>\n",
       "    <tr>\n",
       "      <th>2</th>\n",
       "      <td>10-20</td>\n",
       "      <td>Phone</td>\n",
       "      <td>29</td>\n",
       "    </tr>\n",
       "    <tr>\n",
       "      <th>3</th>\n",
       "      <td>20-30</td>\n",
       "      <td>In store</td>\n",
       "      <td>370</td>\n",
       "    </tr>\n",
       "    <tr>\n",
       "      <th>4</th>\n",
       "      <td>20-30</td>\n",
       "      <td>Online</td>\n",
       "      <td>196</td>\n",
       "    </tr>\n",
       "    <tr>\n",
       "      <th>5</th>\n",
       "      <td>20-30</td>\n",
       "      <td>Phone</td>\n",
       "      <td>94</td>\n",
       "    </tr>\n",
       "    <tr>\n",
       "      <th>6</th>\n",
       "      <td>30-40</td>\n",
       "      <td>In store</td>\n",
       "      <td>664</td>\n",
       "    </tr>\n",
       "    <tr>\n",
       "      <th>7</th>\n",
       "      <td>30-40</td>\n",
       "      <td>Online</td>\n",
       "      <td>390</td>\n",
       "    </tr>\n",
       "    <tr>\n",
       "      <th>8</th>\n",
       "      <td>30-40</td>\n",
       "      <td>Phone</td>\n",
       "      <td>144</td>\n",
       "    </tr>\n",
       "    <tr>\n",
       "      <th>9</th>\n",
       "      <td>40-50</td>\n",
       "      <td>In store</td>\n",
       "      <td>686</td>\n",
       "    </tr>\n",
       "    <tr>\n",
       "      <th>10</th>\n",
       "      <td>40-50</td>\n",
       "      <td>Online</td>\n",
       "      <td>363</td>\n",
       "    </tr>\n",
       "    <tr>\n",
       "      <th>11</th>\n",
       "      <td>40-50</td>\n",
       "      <td>Phone</td>\n",
       "      <td>146</td>\n",
       "    </tr>\n",
       "    <tr>\n",
       "      <th>12</th>\n",
       "      <td>50-60</td>\n",
       "      <td>In store</td>\n",
       "      <td>486</td>\n",
       "    </tr>\n",
       "    <tr>\n",
       "      <th>13</th>\n",
       "      <td>50-60</td>\n",
       "      <td>Online</td>\n",
       "      <td>310</td>\n",
       "    </tr>\n",
       "    <tr>\n",
       "      <th>14</th>\n",
       "      <td>50-60</td>\n",
       "      <td>Phone</td>\n",
       "      <td>91</td>\n",
       "    </tr>\n",
       "    <tr>\n",
       "      <th>15</th>\n",
       "      <td>60-70</td>\n",
       "      <td>In store</td>\n",
       "      <td>379</td>\n",
       "    </tr>\n",
       "    <tr>\n",
       "      <th>16</th>\n",
       "      <td>60-70</td>\n",
       "      <td>Online</td>\n",
       "      <td>188</td>\n",
       "    </tr>\n",
       "    <tr>\n",
       "      <th>17</th>\n",
       "      <td>60-70</td>\n",
       "      <td>Phone</td>\n",
       "      <td>70</td>\n",
       "    </tr>\n",
       "    <tr>\n",
       "      <th>18</th>\n",
       "      <td>70-80</td>\n",
       "      <td>In store</td>\n",
       "      <td>117</td>\n",
       "    </tr>\n",
       "    <tr>\n",
       "      <th>19</th>\n",
       "      <td>70-80</td>\n",
       "      <td>Online</td>\n",
       "      <td>63</td>\n",
       "    </tr>\n",
       "    <tr>\n",
       "      <th>20</th>\n",
       "      <td>70-80</td>\n",
       "      <td>Phone</td>\n",
       "      <td>22</td>\n",
       "    </tr>\n",
       "  </tbody>\n",
       "</table>\n",
       "</div>"
      ],
      "text/plain": [
       "    group purchaseMethod  counts\n",
       "0   10-20       In store     117\n",
       "1   10-20         Online      75\n",
       "2   10-20          Phone      29\n",
       "3   20-30       In store     370\n",
       "4   20-30         Online     196\n",
       "5   20-30          Phone      94\n",
       "6   30-40       In store     664\n",
       "7   30-40         Online     390\n",
       "8   30-40          Phone     144\n",
       "9   40-50       In store     686\n",
       "10  40-50         Online     363\n",
       "11  40-50          Phone     146\n",
       "12  50-60       In store     486\n",
       "13  50-60         Online     310\n",
       "14  50-60          Phone      91\n",
       "15  60-70       In store     379\n",
       "16  60-70         Online     188\n",
       "17  60-70          Phone      70\n",
       "18  70-80       In store     117\n",
       "19  70-80         Online      63\n",
       "20  70-80          Phone      22"
      ]
     },
     "execution_count": 48,
     "metadata": {},
     "output_type": "execute_result"
    }
   ],
   "source": [
    "data_3 = df3_bigQ.groupby(['group', 'purchaseMethod']).size()\n",
    "data_ready3 = data_3.reset_index(name='counts')\n",
    "\n",
    "data_ready3"
   ]
  },
  {
   "cell_type": "code",
   "execution_count": 49,
   "id": "523a82b3",
   "metadata": {},
   "outputs": [
    {
     "data": {
      "text/plain": [
       "group             category\n",
       "purchaseMethod    category\n",
       "counts               int64\n",
       "dtype: object"
      ]
     },
     "execution_count": 49,
     "metadata": {},
     "output_type": "execute_result"
    }
   ],
   "source": [
    "data_ready3.dtypes"
   ]
  },
  {
   "cell_type": "code",
   "execution_count": 50,
   "id": "4dd133de",
   "metadata": {},
   "outputs": [],
   "source": [
    "data_ready3 = data_ready3.groupby(['group', 'purchaseMethod']).sum()"
   ]
  },
  {
   "cell_type": "code",
   "execution_count": 51,
   "id": "8e3c96ad",
   "metadata": {},
   "outputs": [
    {
     "data": {
      "text/html": [
       "<div>\n",
       "<style scoped>\n",
       "    .dataframe tbody tr th:only-of-type {\n",
       "        vertical-align: middle;\n",
       "    }\n",
       "\n",
       "    .dataframe tbody tr th {\n",
       "        vertical-align: top;\n",
       "    }\n",
       "\n",
       "    .dataframe thead th {\n",
       "        text-align: right;\n",
       "    }\n",
       "</style>\n",
       "<table border=\"1\" class=\"dataframe\">\n",
       "  <thead>\n",
       "    <tr style=\"text-align: right;\">\n",
       "      <th></th>\n",
       "      <th></th>\n",
       "      <th>counts</th>\n",
       "    </tr>\n",
       "    <tr>\n",
       "      <th>group</th>\n",
       "      <th>purchaseMethod</th>\n",
       "      <th></th>\n",
       "    </tr>\n",
       "  </thead>\n",
       "  <tbody>\n",
       "    <tr>\n",
       "      <th rowspan=\"3\" valign=\"top\">10-20</th>\n",
       "      <th>In store</th>\n",
       "      <td>117</td>\n",
       "    </tr>\n",
       "    <tr>\n",
       "      <th>Online</th>\n",
       "      <td>75</td>\n",
       "    </tr>\n",
       "    <tr>\n",
       "      <th>Phone</th>\n",
       "      <td>29</td>\n",
       "    </tr>\n",
       "    <tr>\n",
       "      <th rowspan=\"3\" valign=\"top\">20-30</th>\n",
       "      <th>In store</th>\n",
       "      <td>370</td>\n",
       "    </tr>\n",
       "    <tr>\n",
       "      <th>Online</th>\n",
       "      <td>196</td>\n",
       "    </tr>\n",
       "    <tr>\n",
       "      <th>Phone</th>\n",
       "      <td>94</td>\n",
       "    </tr>\n",
       "    <tr>\n",
       "      <th rowspan=\"3\" valign=\"top\">30-40</th>\n",
       "      <th>In store</th>\n",
       "      <td>664</td>\n",
       "    </tr>\n",
       "    <tr>\n",
       "      <th>Online</th>\n",
       "      <td>390</td>\n",
       "    </tr>\n",
       "    <tr>\n",
       "      <th>Phone</th>\n",
       "      <td>144</td>\n",
       "    </tr>\n",
       "    <tr>\n",
       "      <th rowspan=\"3\" valign=\"top\">40-50</th>\n",
       "      <th>In store</th>\n",
       "      <td>686</td>\n",
       "    </tr>\n",
       "    <tr>\n",
       "      <th>Online</th>\n",
       "      <td>363</td>\n",
       "    </tr>\n",
       "    <tr>\n",
       "      <th>Phone</th>\n",
       "      <td>146</td>\n",
       "    </tr>\n",
       "    <tr>\n",
       "      <th rowspan=\"3\" valign=\"top\">50-60</th>\n",
       "      <th>In store</th>\n",
       "      <td>486</td>\n",
       "    </tr>\n",
       "    <tr>\n",
       "      <th>Online</th>\n",
       "      <td>310</td>\n",
       "    </tr>\n",
       "    <tr>\n",
       "      <th>Phone</th>\n",
       "      <td>91</td>\n",
       "    </tr>\n",
       "    <tr>\n",
       "      <th rowspan=\"3\" valign=\"top\">60-70</th>\n",
       "      <th>In store</th>\n",
       "      <td>379</td>\n",
       "    </tr>\n",
       "    <tr>\n",
       "      <th>Online</th>\n",
       "      <td>188</td>\n",
       "    </tr>\n",
       "    <tr>\n",
       "      <th>Phone</th>\n",
       "      <td>70</td>\n",
       "    </tr>\n",
       "    <tr>\n",
       "      <th rowspan=\"3\" valign=\"top\">70-80</th>\n",
       "      <th>In store</th>\n",
       "      <td>117</td>\n",
       "    </tr>\n",
       "    <tr>\n",
       "      <th>Online</th>\n",
       "      <td>63</td>\n",
       "    </tr>\n",
       "    <tr>\n",
       "      <th>Phone</th>\n",
       "      <td>22</td>\n",
       "    </tr>\n",
       "  </tbody>\n",
       "</table>\n",
       "</div>"
      ],
      "text/plain": [
       "                      counts\n",
       "group purchaseMethod        \n",
       "10-20 In store           117\n",
       "      Online              75\n",
       "      Phone               29\n",
       "20-30 In store           370\n",
       "      Online             196\n",
       "      Phone               94\n",
       "30-40 In store           664\n",
       "      Online             390\n",
       "      Phone              144\n",
       "40-50 In store           686\n",
       "      Online             363\n",
       "      Phone              146\n",
       "50-60 In store           486\n",
       "      Online             310\n",
       "      Phone               91\n",
       "60-70 In store           379\n",
       "      Online             188\n",
       "      Phone               70\n",
       "70-80 In store           117\n",
       "      Online              63\n",
       "      Phone               22"
      ]
     },
     "execution_count": 51,
     "metadata": {},
     "output_type": "execute_result"
    }
   ],
   "source": [
    "data_ready3"
   ]
  },
  {
   "cell_type": "code",
   "execution_count": 52,
   "id": "7562b27a",
   "metadata": {},
   "outputs": [
    {
     "data": {
      "text/plain": [
       "<AxesSubplot:xlabel='group'>"
      ]
     },
     "execution_count": 52,
     "metadata": {},
     "output_type": "execute_result"
    },
    {
     "data": {
      "image/png": "[encoded data removed]",
      "text/plain": [
       "<Figure size 720x504 with 1 Axes>"
      ]
     },
     "metadata": {
      "needs_background": "light"
     },
     "output_type": "display_data"
    }
   ],
   "source": [
    "data_ready3.unstack().plot(kind='bar', y = 'counts', stacked=True, figsize=(10,7))"
   ]
  },
  {
   "cell_type": "code",
   "execution_count": 53,
   "id": "e7ab0755-009f-4893-8926-f4beb9010106",
   "metadata": {
    "tags": []
   },
   "outputs": [],
   "source": [
    "i = 0\n",
    "suma = 0\n",
    "Totals = []\n",
    "for element in data_3:\n",
    "    suma += element\n",
    "    i+=1\n",
    "    if i==3:\n",
    "        Totals.append(suma)\n",
    "        i=0\n",
    "        suma = 0"
   ]
  },
  {
   "cell_type": "code",
   "execution_count": 54,
   "id": "d55a8f97-25cd-4551-97bd-c2b0b4ab6c2f",
   "metadata": {},
   "outputs": [
    {
     "data": {
      "text/plain": [
       "[221, 660, 1198, 1195, 887, 637, 202]"
      ]
     },
     "execution_count": 54,
     "metadata": {},
     "output_type": "execute_result"
    }
   ],
   "source": [
    "Totals"
   ]
  },
  {
   "cell_type": "code",
   "execution_count": 55,
   "id": "5754066a-6803-46b6-aec0-9316fd008547",
   "metadata": {},
   "outputs": [],
   "source": [
    "norm = []\n",
    "i = 0\n",
    "j = 0\n",
    "for element in data_3:\n",
    "    norm.append(element/Totals[j])\n",
    "    i += 1\n",
    "    if i==3:\n",
    "        i=0\n",
    "        j+=1"
   ]
  },
  {
   "cell_type": "code",
   "execution_count": 56,
   "id": "09e37c99-5ea3-4cfb-bf48-775c36628ba6",
   "metadata": {},
   "outputs": [
    {
     "data": {
      "text/html": [
       "<div>\n",
       "<style scoped>\n",
       "    .dataframe tbody tr th:only-of-type {\n",
       "        vertical-align: middle;\n",
       "    }\n",
       "\n",
       "    .dataframe tbody tr th {\n",
       "        vertical-align: top;\n",
       "    }\n",
       "\n",
       "    .dataframe thead th {\n",
       "        text-align: right;\n",
       "    }\n",
       "</style>\n",
       "<table border=\"1\" class=\"dataframe\">\n",
       "  <thead>\n",
       "    <tr style=\"text-align: right;\">\n",
       "      <th></th>\n",
       "      <th></th>\n",
       "      <th>counts</th>\n",
       "      <th>norm</th>\n",
       "    </tr>\n",
       "    <tr>\n",
       "      <th>group</th>\n",
       "      <th>purchaseMethod</th>\n",
       "      <th></th>\n",
       "      <th></th>\n",
       "    </tr>\n",
       "  </thead>\n",
       "  <tbody>\n",
       "    <tr>\n",
       "      <th rowspan=\"3\" valign=\"top\">10-20</th>\n",
       "      <th>In store</th>\n",
       "      <td>117</td>\n",
       "      <td>0.529412</td>\n",
       "    </tr>\n",
       "    <tr>\n",
       "      <th>Online</th>\n",
       "      <td>75</td>\n",
       "      <td>0.339367</td>\n",
       "    </tr>\n",
       "    <tr>\n",
       "      <th>Phone</th>\n",
       "      <td>29</td>\n",
       "      <td>0.131222</td>\n",
       "    </tr>\n",
       "    <tr>\n",
       "      <th rowspan=\"3\" valign=\"top\">20-30</th>\n",
       "      <th>In store</th>\n",
       "      <td>370</td>\n",
       "      <td>0.560606</td>\n",
       "    </tr>\n",
       "    <tr>\n",
       "      <th>Online</th>\n",
       "      <td>196</td>\n",
       "      <td>0.296970</td>\n",
       "    </tr>\n",
       "    <tr>\n",
       "      <th>Phone</th>\n",
       "      <td>94</td>\n",
       "      <td>0.142424</td>\n",
       "    </tr>\n",
       "    <tr>\n",
       "      <th rowspan=\"3\" valign=\"top\">30-40</th>\n",
       "      <th>In store</th>\n",
       "      <td>664</td>\n",
       "      <td>0.554257</td>\n",
       "    </tr>\n",
       "    <tr>\n",
       "      <th>Online</th>\n",
       "      <td>390</td>\n",
       "      <td>0.325543</td>\n",
       "    </tr>\n",
       "    <tr>\n",
       "      <th>Phone</th>\n",
       "      <td>144</td>\n",
       "      <td>0.120200</td>\n",
       "    </tr>\n",
       "    <tr>\n",
       "      <th rowspan=\"3\" valign=\"top\">40-50</th>\n",
       "      <th>In store</th>\n",
       "      <td>686</td>\n",
       "      <td>0.574059</td>\n",
       "    </tr>\n",
       "    <tr>\n",
       "      <th>Online</th>\n",
       "      <td>363</td>\n",
       "      <td>0.303766</td>\n",
       "    </tr>\n",
       "    <tr>\n",
       "      <th>Phone</th>\n",
       "      <td>146</td>\n",
       "      <td>0.122176</td>\n",
       "    </tr>\n",
       "    <tr>\n",
       "      <th rowspan=\"3\" valign=\"top\">50-60</th>\n",
       "      <th>In store</th>\n",
       "      <td>486</td>\n",
       "      <td>0.547914</td>\n",
       "    </tr>\n",
       "    <tr>\n",
       "      <th>Online</th>\n",
       "      <td>310</td>\n",
       "      <td>0.349493</td>\n",
       "    </tr>\n",
       "    <tr>\n",
       "      <th>Phone</th>\n",
       "      <td>91</td>\n",
       "      <td>0.102593</td>\n",
       "    </tr>\n",
       "    <tr>\n",
       "      <th rowspan=\"3\" valign=\"top\">60-70</th>\n",
       "      <th>In store</th>\n",
       "      <td>379</td>\n",
       "      <td>0.594976</td>\n",
       "    </tr>\n",
       "    <tr>\n",
       "      <th>Online</th>\n",
       "      <td>188</td>\n",
       "      <td>0.295133</td>\n",
       "    </tr>\n",
       "    <tr>\n",
       "      <th>Phone</th>\n",
       "      <td>70</td>\n",
       "      <td>0.109890</td>\n",
       "    </tr>\n",
       "    <tr>\n",
       "      <th rowspan=\"3\" valign=\"top\">70-80</th>\n",
       "      <th>In store</th>\n",
       "      <td>117</td>\n",
       "      <td>0.579208</td>\n",
       "    </tr>\n",
       "    <tr>\n",
       "      <th>Online</th>\n",
       "      <td>63</td>\n",
       "      <td>0.311881</td>\n",
       "    </tr>\n",
       "    <tr>\n",
       "      <th>Phone</th>\n",
       "      <td>22</td>\n",
       "      <td>0.108911</td>\n",
       "    </tr>\n",
       "  </tbody>\n",
       "</table>\n",
       "</div>"
      ],
      "text/plain": [
       "                      counts      norm\n",
       "group purchaseMethod                  \n",
       "10-20 In store           117  0.529412\n",
       "      Online              75  0.339367\n",
       "      Phone               29  0.131222\n",
       "20-30 In store           370  0.560606\n",
       "      Online             196  0.296970\n",
       "      Phone               94  0.142424\n",
       "30-40 In store           664  0.554257\n",
       "      Online             390  0.325543\n",
       "      Phone              144  0.120200\n",
       "40-50 In store           686  0.574059\n",
       "      Online             363  0.303766\n",
       "      Phone              146  0.122176\n",
       "50-60 In store           486  0.547914\n",
       "      Online             310  0.349493\n",
       "      Phone               91  0.102593\n",
       "60-70 In store           379  0.594976\n",
       "      Online             188  0.295133\n",
       "      Phone               70  0.109890\n",
       "70-80 In store           117  0.579208\n",
       "      Online              63  0.311881\n",
       "      Phone               22  0.108911"
      ]
     },
     "execution_count": 56,
     "metadata": {},
     "output_type": "execute_result"
    }
   ],
   "source": [
    "data_ready3['norm'] = norm\n",
    "data_ready3"
   ]
  },
  {
   "cell_type": "code",
   "execution_count": 57,
   "id": "838a9582-6312-4bb4-b522-87609b3e1e47",
   "metadata": {},
   "outputs": [
    {
     "data": {
      "text/plain": [
       "<AxesSubplot:xlabel='group'>"
      ]
     },
     "execution_count": 57,
     "metadata": {},
     "output_type": "execute_result"
    },
    {
     "data": {
      "image/png": "[encoded data removed]",
      "text/plain": [
       "<Figure size 720x504 with 1 Axes>"
      ]
     },
     "metadata": {
      "needs_background": "light"
     },
     "output_type": "display_data"
    }
   ],
   "source": [
    "data_ready3.unstack().plot(kind='bar',y='norm',stacked=True, figsize=(10,7))"
   ]
  },
  {
   "cell_type": "markdown",
   "id": "a0fe292c-f4f6-4a40-b236-5c9a4039081d",
   "metadata": {},
   "source": [
    "## Pregunta 3:\n",
    "Cómo cambia el nivel de satisfacción de los clientes con respecto a la tienda donde realizaron la compra"
   ]
  },
  {
   "cell_type": "code",
   "execution_count": null,
   "id": "051896de",
   "metadata": {},
   "outputs": [],
   "source": []
  },
  {
   "cell_type": "code",
   "execution_count": 58,
   "id": "507a463e-cbcc-4b3f-acb3-d32bcbba459a",
   "metadata": {},
   "outputs": [],
   "source": [
    "result1 = col.find({}, {\"_id\": 0, \"storeLocation\":1, \"customer.satisfaction\": 1})"
   ]
  },
  {
   "cell_type": "code",
   "execution_count": 59,
   "id": "9a91dc82-6c1f-4d3b-9b2c-2d573fbe6543",
   "metadata": {},
   "outputs": [],
   "source": [
    "df = pd.json_normalize(result1)"
   ]
  },
  {
   "cell_type": "code",
   "execution_count": 60,
   "id": "854c324a-3cb8-4a1a-a2e9-680aff068a67",
   "metadata": {},
   "outputs": [
    {
     "data": {
      "text/html": [
       "<div>\n",
       "<style scoped>\n",
       "    .dataframe tbody tr th:only-of-type {\n",
       "        vertical-align: middle;\n",
       "    }\n",
       "\n",
       "    .dataframe tbody tr th {\n",
       "        vertical-align: top;\n",
       "    }\n",
       "\n",
       "    .dataframe thead th {\n",
       "        text-align: right;\n",
       "    }\n",
       "</style>\n",
       "<table border=\"1\" class=\"dataframe\">\n",
       "  <thead>\n",
       "    <tr style=\"text-align: right;\">\n",
       "      <th></th>\n",
       "      <th>storeLocation</th>\n",
       "      <th>customer.satisfaction</th>\n",
       "    </tr>\n",
       "  </thead>\n",
       "  <tbody>\n",
       "    <tr>\n",
       "      <th>0</th>\n",
       "      <td>Denver</td>\n",
       "      <td>4</td>\n",
       "    </tr>\n",
       "    <tr>\n",
       "      <th>1</th>\n",
       "      <td>Seattle</td>\n",
       "      <td>5</td>\n",
       "    </tr>\n",
       "    <tr>\n",
       "      <th>2</th>\n",
       "      <td>Denver</td>\n",
       "      <td>5</td>\n",
       "    </tr>\n",
       "    <tr>\n",
       "      <th>3</th>\n",
       "      <td>Seattle</td>\n",
       "      <td>3</td>\n",
       "    </tr>\n",
       "    <tr>\n",
       "      <th>4</th>\n",
       "      <td>London</td>\n",
       "      <td>4</td>\n",
       "    </tr>\n",
       "  </tbody>\n",
       "</table>\n",
       "</div>"
      ],
      "text/plain": [
       "  storeLocation  customer.satisfaction\n",
       "0        Denver                      4\n",
       "1       Seattle                      5\n",
       "2        Denver                      5\n",
       "3       Seattle                      3\n",
       "4        London                      4"
      ]
     },
     "execution_count": 60,
     "metadata": {},
     "output_type": "execute_result"
    }
   ],
   "source": [
    "df.head()"
   ]
  },
  {
   "cell_type": "code",
   "execution_count": 61,
   "id": "7737b17f-6eb2-440d-a85f-372ff0c0c4a8",
   "metadata": {},
   "outputs": [
    {
     "data": {
      "text/plain": [
       "array(['Denver', 'Seattle', 'London', 'Austin', 'New York', 'San Diego'],\n",
       "      dtype=object)"
      ]
     },
     "execution_count": 61,
     "metadata": {},
     "output_type": "execute_result"
    }
   ],
   "source": [
    "df.storeLocation.unique()"
   ]
  },
  {
   "cell_type": "code",
   "execution_count": 62,
   "id": "e997212e-c214-4c43-82fb-31a353c663b8",
   "metadata": {},
   "outputs": [
    {
     "data": {
      "text/plain": [
       "count    5000.000000\n",
       "mean        3.793200\n",
       "std         1.217346\n",
       "min         1.000000\n",
       "25%         3.000000\n",
       "50%         4.000000\n",
       "75%         5.000000\n",
       "max         5.000000\n",
       "Name: customer.satisfaction, dtype: float64"
      ]
     },
     "execution_count": 62,
     "metadata": {},
     "output_type": "execute_result"
    }
   ],
   "source": [
    "df['customer.satisfaction'].describe()"
   ]
  },
  {
   "cell_type": "code",
   "execution_count": 63,
   "id": "d5cc6c00-e489-4b28-bf0c-c46b5098c1ef",
   "metadata": {},
   "outputs": [],
   "source": [
    "df.rename(columns={\"customer.satisfaction\":\"satisfaction\"},inplace=True)"
   ]
  },
  {
   "cell_type": "code",
   "execution_count": 64,
   "id": "c3446fc5-282e-4d43-822e-b57344ecbf15",
   "metadata": {
    "tags": []
   },
   "outputs": [],
   "source": [
    "groupby = df.groupby(['storeLocation','satisfaction']).size()"
   ]
  },
  {
   "cell_type": "code",
   "execution_count": 65,
   "id": "d99eb2e3-3b97-4206-8b13-638d4f4ca0da",
   "metadata": {
    "tags": []
   },
   "outputs": [],
   "source": [
    "i = 0\n",
    "suma = 0\n",
    "Totals = []\n",
    "for element in groupby:\n",
    "    suma += element\n",
    "    i+=1\n",
    "    if i==5:\n",
    "        Totals.append(suma)\n",
    "        i=0\n",
    "        suma = 0"
   ]
  },
  {
   "cell_type": "code",
   "execution_count": 66,
   "id": "6ba99eee-1e60-4d7f-aa55-cc486a255278",
   "metadata": {},
   "outputs": [
    {
     "data": {
      "text/plain": [
       "[676, 1549, 794, 501, 346, 1134]"
      ]
     },
     "execution_count": 66,
     "metadata": {},
     "output_type": "execute_result"
    }
   ],
   "source": [
    "Totals"
   ]
  },
  {
   "cell_type": "code",
   "execution_count": 67,
   "id": "b7782b41-fe0a-427d-baf2-3b738f1eb964",
   "metadata": {},
   "outputs": [],
   "source": [
    "norm = []\n",
    "i = 0\n",
    "j = 0\n",
    "for element in groupby:\n",
    "    norm.append(element/Totals[j])\n",
    "    i += 1\n",
    "    if i==5:\n",
    "        i=0\n",
    "        j+=1"
   ]
  },
  {
   "cell_type": "code",
   "execution_count": 68,
   "id": "d5dc0d30-5767-4683-8ab4-745541a14593",
   "metadata": {},
   "outputs": [],
   "source": [
    "g2 = groupby.reset_index(name='Count').groupby(['storeLocation','satisfaction']).sum()"
   ]
  },
  {
   "cell_type": "code",
   "execution_count": 69,
   "id": "72fd5c1b-be82-4792-8618-07edef06dcde",
   "metadata": {},
   "outputs": [],
   "source": [
    "g2['norm'] = norm"
   ]
  },
  {
   "cell_type": "code",
   "execution_count": 70,
   "id": "23b2dcbb-2e88-4a70-a52e-7dee18b05115",
   "metadata": {},
   "outputs": [
    {
     "data": {
      "text/html": [
       "<div>\n",
       "<style scoped>\n",
       "    .dataframe tbody tr th:only-of-type {\n",
       "        vertical-align: middle;\n",
       "    }\n",
       "\n",
       "    .dataframe tbody tr th {\n",
       "        vertical-align: top;\n",
       "    }\n",
       "\n",
       "    .dataframe thead th {\n",
       "        text-align: right;\n",
       "    }\n",
       "</style>\n",
       "<table border=\"1\" class=\"dataframe\">\n",
       "  <thead>\n",
       "    <tr style=\"text-align: right;\">\n",
       "      <th></th>\n",
       "      <th></th>\n",
       "      <th>Count</th>\n",
       "      <th>norm</th>\n",
       "    </tr>\n",
       "    <tr>\n",
       "      <th>storeLocation</th>\n",
       "      <th>satisfaction</th>\n",
       "      <th></th>\n",
       "      <th></th>\n",
       "    </tr>\n",
       "  </thead>\n",
       "  <tbody>\n",
       "    <tr>\n",
       "      <th rowspan=\"5\" valign=\"top\">Austin</th>\n",
       "      <th>1</th>\n",
       "      <td>51</td>\n",
       "      <td>0.075444</td>\n",
       "    </tr>\n",
       "    <tr>\n",
       "      <th>2</th>\n",
       "      <td>58</td>\n",
       "      <td>0.085799</td>\n",
       "    </tr>\n",
       "    <tr>\n",
       "      <th>3</th>\n",
       "      <td>119</td>\n",
       "      <td>0.176036</td>\n",
       "    </tr>\n",
       "    <tr>\n",
       "      <th>4</th>\n",
       "      <td>217</td>\n",
       "      <td>0.321006</td>\n",
       "    </tr>\n",
       "    <tr>\n",
       "      <th>5</th>\n",
       "      <td>231</td>\n",
       "      <td>0.341716</td>\n",
       "    </tr>\n",
       "    <tr>\n",
       "      <th rowspan=\"5\" valign=\"top\">Denver</th>\n",
       "      <th>1</th>\n",
       "      <td>129</td>\n",
       "      <td>0.083280</td>\n",
       "    </tr>\n",
       "    <tr>\n",
       "      <th>2</th>\n",
       "      <td>107</td>\n",
       "      <td>0.069077</td>\n",
       "    </tr>\n",
       "    <tr>\n",
       "      <th>3</th>\n",
       "      <td>255</td>\n",
       "      <td>0.164622</td>\n",
       "    </tr>\n",
       "    <tr>\n",
       "      <th>4</th>\n",
       "      <td>512</td>\n",
       "      <td>0.330536</td>\n",
       "    </tr>\n",
       "    <tr>\n",
       "      <th>5</th>\n",
       "      <td>546</td>\n",
       "      <td>0.352485</td>\n",
       "    </tr>\n",
       "    <tr>\n",
       "      <th rowspan=\"5\" valign=\"top\">London</th>\n",
       "      <th>1</th>\n",
       "      <td>52</td>\n",
       "      <td>0.065491</td>\n",
       "    </tr>\n",
       "    <tr>\n",
       "      <th>2</th>\n",
       "      <td>62</td>\n",
       "      <td>0.078086</td>\n",
       "    </tr>\n",
       "    <tr>\n",
       "      <th>3</th>\n",
       "      <td>141</td>\n",
       "      <td>0.177582</td>\n",
       "    </tr>\n",
       "    <tr>\n",
       "      <th>4</th>\n",
       "      <td>275</td>\n",
       "      <td>0.346348</td>\n",
       "    </tr>\n",
       "    <tr>\n",
       "      <th>5</th>\n",
       "      <td>264</td>\n",
       "      <td>0.332494</td>\n",
       "    </tr>\n",
       "    <tr>\n",
       "      <th rowspan=\"5\" valign=\"top\">New York</th>\n",
       "      <th>1</th>\n",
       "      <td>38</td>\n",
       "      <td>0.075848</td>\n",
       "    </tr>\n",
       "    <tr>\n",
       "      <th>2</th>\n",
       "      <td>44</td>\n",
       "      <td>0.087824</td>\n",
       "    </tr>\n",
       "    <tr>\n",
       "      <th>3</th>\n",
       "      <td>74</td>\n",
       "      <td>0.147705</td>\n",
       "    </tr>\n",
       "    <tr>\n",
       "      <th>4</th>\n",
       "      <td>168</td>\n",
       "      <td>0.335329</td>\n",
       "    </tr>\n",
       "    <tr>\n",
       "      <th>5</th>\n",
       "      <td>177</td>\n",
       "      <td>0.353293</td>\n",
       "    </tr>\n",
       "    <tr>\n",
       "      <th rowspan=\"5\" valign=\"top\">San Diego</th>\n",
       "      <th>1</th>\n",
       "      <td>24</td>\n",
       "      <td>0.069364</td>\n",
       "    </tr>\n",
       "    <tr>\n",
       "      <th>2</th>\n",
       "      <td>35</td>\n",
       "      <td>0.101156</td>\n",
       "    </tr>\n",
       "    <tr>\n",
       "      <th>3</th>\n",
       "      <td>53</td>\n",
       "      <td>0.153179</td>\n",
       "    </tr>\n",
       "    <tr>\n",
       "      <th>4</th>\n",
       "      <td>112</td>\n",
       "      <td>0.323699</td>\n",
       "    </tr>\n",
       "    <tr>\n",
       "      <th>5</th>\n",
       "      <td>122</td>\n",
       "      <td>0.352601</td>\n",
       "    </tr>\n",
       "    <tr>\n",
       "      <th rowspan=\"5\" valign=\"top\">Seattle</th>\n",
       "      <th>1</th>\n",
       "      <td>94</td>\n",
       "      <td>0.082892</td>\n",
       "    </tr>\n",
       "    <tr>\n",
       "      <th>2</th>\n",
       "      <td>88</td>\n",
       "      <td>0.077601</td>\n",
       "    </tr>\n",
       "    <tr>\n",
       "      <th>3</th>\n",
       "      <td>176</td>\n",
       "      <td>0.155203</td>\n",
       "    </tr>\n",
       "    <tr>\n",
       "      <th>4</th>\n",
       "      <td>380</td>\n",
       "      <td>0.335097</td>\n",
       "    </tr>\n",
       "    <tr>\n",
       "      <th>5</th>\n",
       "      <td>396</td>\n",
       "      <td>0.349206</td>\n",
       "    </tr>\n",
       "  </tbody>\n",
       "</table>\n",
       "</div>"
      ],
      "text/plain": [
       "                            Count      norm\n",
       "storeLocation satisfaction                 \n",
       "Austin        1                51  0.075444\n",
       "              2                58  0.085799\n",
       "              3               119  0.176036\n",
       "              4               217  0.321006\n",
       "              5               231  0.341716\n",
       "Denver        1               129  0.083280\n",
       "              2               107  0.069077\n",
       "              3               255  0.164622\n",
       "              4               512  0.330536\n",
       "              5               546  0.352485\n",
       "London        1                52  0.065491\n",
       "              2                62  0.078086\n",
       "              3               141  0.177582\n",
       "              4               275  0.346348\n",
       "              5               264  0.332494\n",
       "New York      1                38  0.075848\n",
       "              2                44  0.087824\n",
       "              3                74  0.147705\n",
       "              4               168  0.335329\n",
       "              5               177  0.353293\n",
       "San Diego     1                24  0.069364\n",
       "              2                35  0.101156\n",
       "              3                53  0.153179\n",
       "              4               112  0.323699\n",
       "              5               122  0.352601\n",
       "Seattle       1                94  0.082892\n",
       "              2                88  0.077601\n",
       "              3               176  0.155203\n",
       "              4               380  0.335097\n",
       "              5               396  0.349206"
      ]
     },
     "execution_count": 70,
     "metadata": {},
     "output_type": "execute_result"
    }
   ],
   "source": [
    "g2"
   ]
  },
  {
   "cell_type": "code",
   "execution_count": 71,
   "id": "abdf5305-d843-40ca-86b7-842e3390f6d7",
   "metadata": {},
   "outputs": [],
   "source": [
    "job_config = bigquery.LoadJobConfig(\n",
    "    schema = [\n",
    "        # Supported datatypes: https://cloud.google.com/bigquery/docs/reference/standard-sql/data-types\n",
    "        bigquery.SchemaField(\"storeLocation\", bigquery.enums.SqlTypeNames.STRING),\n",
    "        bigquery.SchemaField(\"satisfaction\", bigquery.enums.SqlTypeNames.INT64),\n",
    "        bigquery.SchemaField(\"Count\", bigquery.enums.SqlTypeNames.INT64),\n",
    "        bigquery.SchemaField(\"norm\", bigquery.enums.SqlTypeNames.FLOAT64),\n",
    "    ],\n",
    "    # Drod and re-create table, if exist\n",
    "    write_disposition = \"WRITE_TRUNCATE\",\n",
    ")"
   ]
  },
  {
   "cell_type": "code",
   "execution_count": 72,
   "id": "19b1773c-28dd-42af-9bd2-14ffebd72f5e",
   "metadata": {},
   "outputs": [],
   "source": [
    "BQ_TABLE_NAME = \"dataprep.satisfactin_per_location_mj\""
   ]
  },
  {
   "cell_type": "code",
   "execution_count": 73,
   "id": "8cfc10cb-1be0-4740-a929-cf2dbce8e1c5",
   "metadata": {},
   "outputs": [
    {
     "data": {
      "text/plain": [
       "LoadJob<project=javeriana-dataprep, location=us-central1, id=6340b9c7-fb61-44ca-979d-e0452dbec9fa>"
      ]
     },
     "execution_count": 73,
     "metadata": {},
     "output_type": "execute_result"
    }
   ],
   "source": [
    "job = client.load_table_from_dataframe(\n",
    "    g2, BQ_TABLE_NAME, job_config = job_config\n",
    ")\n",
    "\n",
    "job.result()"
   ]
  },
  {
   "cell_type": "code",
   "execution_count": 74,
   "id": "59c420b1-654f-4f7c-bd39-c04e9aded123",
   "metadata": {
    "scrolled": true
   },
   "outputs": [
    {
     "name": "stdout",
     "output_type": "stream",
     "text": [
      "Loaded 30 rows and 4 columns to dataprep.satisfactin_per_location_mj\n"
     ]
    }
   ],
   "source": [
    "table = client.get_table(BQ_TABLE_NAME)\n",
    "\n",
    "print(\"Loaded {} rows and {} columns to {}\".format(table.num_rows, len(table.schema), BQ_TABLE_NAME))"
   ]
  },
  {
   "cell_type": "code",
   "execution_count": 75,
   "id": "77f48916-8409-4d9a-8ecb-ce0cbf0b8383",
   "metadata": {},
   "outputs": [],
   "source": [
    "query = \"\"\"SELECT * FROM `javeriana-dataprep.dataprep.satisfactin_per_location_mj`\"\"\"\n",
    "\n",
    "df_bigq = pd.read_gbq(query, credentials = credentials)\n",
    "\n",
    "df_bigq['storeLocation'] = pd.Categorical(df_bigq['storeLocation'])\n",
    "df_bigq['satisfaction'] = pd.Categorical(df_bigq['satisfaction'])"
   ]
  },
  {
   "cell_type": "code",
   "execution_count": 76,
   "id": "210792ed-bc87-4408-a789-eba0b4b85afd",
   "metadata": {},
   "outputs": [
    {
     "data": {
      "text/html": [
       "<div>\n",
       "<style scoped>\n",
       "    .dataframe tbody tr th:only-of-type {\n",
       "        vertical-align: middle;\n",
       "    }\n",
       "\n",
       "    .dataframe tbody tr th {\n",
       "        vertical-align: top;\n",
       "    }\n",
       "\n",
       "    .dataframe thead th {\n",
       "        text-align: right;\n",
       "    }\n",
       "</style>\n",
       "<table border=\"1\" class=\"dataframe\">\n",
       "  <thead>\n",
       "    <tr style=\"text-align: right;\">\n",
       "      <th></th>\n",
       "      <th>storeLocation</th>\n",
       "      <th>satisfaction</th>\n",
       "      <th>Count</th>\n",
       "      <th>norm</th>\n",
       "    </tr>\n",
       "  </thead>\n",
       "  <tbody>\n",
       "    <tr>\n",
       "      <th>0</th>\n",
       "      <td>Austin</td>\n",
       "      <td>1</td>\n",
       "      <td>51</td>\n",
       "      <td>0.075444</td>\n",
       "    </tr>\n",
       "    <tr>\n",
       "      <th>1</th>\n",
       "      <td>Denver</td>\n",
       "      <td>1</td>\n",
       "      <td>129</td>\n",
       "      <td>0.083280</td>\n",
       "    </tr>\n",
       "    <tr>\n",
       "      <th>2</th>\n",
       "      <td>London</td>\n",
       "      <td>1</td>\n",
       "      <td>52</td>\n",
       "      <td>0.065491</td>\n",
       "    </tr>\n",
       "    <tr>\n",
       "      <th>3</th>\n",
       "      <td>New York</td>\n",
       "      <td>1</td>\n",
       "      <td>38</td>\n",
       "      <td>0.075848</td>\n",
       "    </tr>\n",
       "    <tr>\n",
       "      <th>4</th>\n",
       "      <td>San Diego</td>\n",
       "      <td>1</td>\n",
       "      <td>24</td>\n",
       "      <td>0.069364</td>\n",
       "    </tr>\n",
       "    <tr>\n",
       "      <th>5</th>\n",
       "      <td>Seattle</td>\n",
       "      <td>1</td>\n",
       "      <td>94</td>\n",
       "      <td>0.082892</td>\n",
       "    </tr>\n",
       "    <tr>\n",
       "      <th>6</th>\n",
       "      <td>Austin</td>\n",
       "      <td>2</td>\n",
       "      <td>58</td>\n",
       "      <td>0.085799</td>\n",
       "    </tr>\n",
       "    <tr>\n",
       "      <th>7</th>\n",
       "      <td>Denver</td>\n",
       "      <td>2</td>\n",
       "      <td>107</td>\n",
       "      <td>0.069077</td>\n",
       "    </tr>\n",
       "    <tr>\n",
       "      <th>8</th>\n",
       "      <td>London</td>\n",
       "      <td>2</td>\n",
       "      <td>62</td>\n",
       "      <td>0.078086</td>\n",
       "    </tr>\n",
       "    <tr>\n",
       "      <th>9</th>\n",
       "      <td>New York</td>\n",
       "      <td>2</td>\n",
       "      <td>44</td>\n",
       "      <td>0.087824</td>\n",
       "    </tr>\n",
       "    <tr>\n",
       "      <th>10</th>\n",
       "      <td>San Diego</td>\n",
       "      <td>2</td>\n",
       "      <td>35</td>\n",
       "      <td>0.101156</td>\n",
       "    </tr>\n",
       "    <tr>\n",
       "      <th>11</th>\n",
       "      <td>Seattle</td>\n",
       "      <td>2</td>\n",
       "      <td>88</td>\n",
       "      <td>0.077601</td>\n",
       "    </tr>\n",
       "    <tr>\n",
       "      <th>12</th>\n",
       "      <td>Austin</td>\n",
       "      <td>3</td>\n",
       "      <td>119</td>\n",
       "      <td>0.176036</td>\n",
       "    </tr>\n",
       "    <tr>\n",
       "      <th>13</th>\n",
       "      <td>Denver</td>\n",
       "      <td>3</td>\n",
       "      <td>255</td>\n",
       "      <td>0.164622</td>\n",
       "    </tr>\n",
       "    <tr>\n",
       "      <th>14</th>\n",
       "      <td>London</td>\n",
       "      <td>3</td>\n",
       "      <td>141</td>\n",
       "      <td>0.177582</td>\n",
       "    </tr>\n",
       "    <tr>\n",
       "      <th>15</th>\n",
       "      <td>New York</td>\n",
       "      <td>3</td>\n",
       "      <td>74</td>\n",
       "      <td>0.147705</td>\n",
       "    </tr>\n",
       "    <tr>\n",
       "      <th>16</th>\n",
       "      <td>San Diego</td>\n",
       "      <td>3</td>\n",
       "      <td>53</td>\n",
       "      <td>0.153179</td>\n",
       "    </tr>\n",
       "    <tr>\n",
       "      <th>17</th>\n",
       "      <td>Seattle</td>\n",
       "      <td>3</td>\n",
       "      <td>176</td>\n",
       "      <td>0.155203</td>\n",
       "    </tr>\n",
       "    <tr>\n",
       "      <th>18</th>\n",
       "      <td>Austin</td>\n",
       "      <td>4</td>\n",
       "      <td>217</td>\n",
       "      <td>0.321006</td>\n",
       "    </tr>\n",
       "    <tr>\n",
       "      <th>19</th>\n",
       "      <td>Denver</td>\n",
       "      <td>4</td>\n",
       "      <td>512</td>\n",
       "      <td>0.330536</td>\n",
       "    </tr>\n",
       "    <tr>\n",
       "      <th>20</th>\n",
       "      <td>London</td>\n",
       "      <td>4</td>\n",
       "      <td>275</td>\n",
       "      <td>0.346348</td>\n",
       "    </tr>\n",
       "    <tr>\n",
       "      <th>21</th>\n",
       "      <td>New York</td>\n",
       "      <td>4</td>\n",
       "      <td>168</td>\n",
       "      <td>0.335329</td>\n",
       "    </tr>\n",
       "    <tr>\n",
       "      <th>22</th>\n",
       "      <td>San Diego</td>\n",
       "      <td>4</td>\n",
       "      <td>112</td>\n",
       "      <td>0.323699</td>\n",
       "    </tr>\n",
       "    <tr>\n",
       "      <th>23</th>\n",
       "      <td>Seattle</td>\n",
       "      <td>4</td>\n",
       "      <td>380</td>\n",
       "      <td>0.335097</td>\n",
       "    </tr>\n",
       "    <tr>\n",
       "      <th>24</th>\n",
       "      <td>Austin</td>\n",
       "      <td>5</td>\n",
       "      <td>231</td>\n",
       "      <td>0.341716</td>\n",
       "    </tr>\n",
       "    <tr>\n",
       "      <th>25</th>\n",
       "      <td>Denver</td>\n",
       "      <td>5</td>\n",
       "      <td>546</td>\n",
       "      <td>0.352485</td>\n",
       "    </tr>\n",
       "    <tr>\n",
       "      <th>26</th>\n",
       "      <td>London</td>\n",
       "      <td>5</td>\n",
       "      <td>264</td>\n",
       "      <td>0.332494</td>\n",
       "    </tr>\n",
       "    <tr>\n",
       "      <th>27</th>\n",
       "      <td>New York</td>\n",
       "      <td>5</td>\n",
       "      <td>177</td>\n",
       "      <td>0.353293</td>\n",
       "    </tr>\n",
       "    <tr>\n",
       "      <th>28</th>\n",
       "      <td>San Diego</td>\n",
       "      <td>5</td>\n",
       "      <td>122</td>\n",
       "      <td>0.352601</td>\n",
       "    </tr>\n",
       "    <tr>\n",
       "      <th>29</th>\n",
       "      <td>Seattle</td>\n",
       "      <td>5</td>\n",
       "      <td>396</td>\n",
       "      <td>0.349206</td>\n",
       "    </tr>\n",
       "  </tbody>\n",
       "</table>\n",
       "</div>"
      ],
      "text/plain": [
       "   storeLocation satisfaction  Count      norm\n",
       "0         Austin            1     51  0.075444\n",
       "1         Denver            1    129  0.083280\n",
       "2         London            1     52  0.065491\n",
       "3       New York            1     38  0.075848\n",
       "4      San Diego            1     24  0.069364\n",
       "5        Seattle            1     94  0.082892\n",
       "6         Austin            2     58  0.085799\n",
       "7         Denver            2    107  0.069077\n",
       "8         London            2     62  0.078086\n",
       "9       New York            2     44  0.087824\n",
       "10     San Diego            2     35  0.101156\n",
       "11       Seattle            2     88  0.077601\n",
       "12        Austin            3    119  0.176036\n",
       "13        Denver            3    255  0.164622\n",
       "14        London            3    141  0.177582\n",
       "15      New York            3     74  0.147705\n",
       "16     San Diego            3     53  0.153179\n",
       "17       Seattle            3    176  0.155203\n",
       "18        Austin            4    217  0.321006\n",
       "19        Denver            4    512  0.330536\n",
       "20        London            4    275  0.346348\n",
       "21      New York            4    168  0.335329\n",
       "22     San Diego            4    112  0.323699\n",
       "23       Seattle            4    380  0.335097\n",
       "24        Austin            5    231  0.341716\n",
       "25        Denver            5    546  0.352485\n",
       "26        London            5    264  0.332494\n",
       "27      New York            5    177  0.353293\n",
       "28     San Diego            5    122  0.352601\n",
       "29       Seattle            5    396  0.349206"
      ]
     },
     "execution_count": 76,
     "metadata": {},
     "output_type": "execute_result"
    }
   ],
   "source": [
    "df_bigq"
   ]
  },
  {
   "cell_type": "code",
   "execution_count": 77,
   "id": "8fea1585-10a7-4b04-aea1-0f7bf44aa889",
   "metadata": {},
   "outputs": [],
   "source": [
    "groupby = df_bigq.groupby(['storeLocation','satisfaction']).sum()"
   ]
  },
  {
   "cell_type": "code",
   "execution_count": 78,
   "id": "beb1a67d-1e91-4b7a-ba18-d4791eb90205",
   "metadata": {},
   "outputs": [
    {
     "data": {
      "text/plain": [
       "<AxesSubplot:xlabel='storeLocation'>"
      ]
     },
     "execution_count": 78,
     "metadata": {},
     "output_type": "execute_result"
    },
    {
     "data": {
      "image/png": "[encoded data removed]",
      "text/plain": [
       "<Figure size 720x504 with 1 Axes>"
      ]
     },
     "metadata": {
      "needs_background": "light"
     },
     "output_type": "display_data"
    }
   ],
   "source": [
    "groupby.unstack().plot(kind='bar',stacked=True, figsize=(10,7))"
   ]
  },
  {
   "cell_type": "code",
   "execution_count": 79,
   "id": "baba6ee0-2426-4c0d-a2eb-d72ceb8bc354",
   "metadata": {
    "tags": []
   },
   "outputs": [
    {
     "data": {
      "text/plain": [
       "<AxesSubplot:xlabel='storeLocation'>"
      ]
     },
     "execution_count": 79,
     "metadata": {},
     "output_type": "execute_result"
    },
    {
     "data": {
      "image/png": "[encoded data removed]",
      "text/plain": [
       "<Figure size 720x504 with 1 Axes>"
      ]
     },
     "metadata": {
      "needs_background": "light"
     },
     "output_type": "display_data"
    }
   ],
   "source": [
    "groupby.unstack().plot(kind='bar',y='norm',stacked=True, figsize=(10,7))"
   ]
  },
  {
   "cell_type": "code",
   "execution_count": null,
   "id": "1912b643-af2a-471c-8a25-66a90c687aca",
   "metadata": {},
   "outputs": [],
   "source": []
  }
 ],
 "metadata": {
  "kernelspec": {
   "display_name": "Python 3 (ipykernel)",
   "language": "python",
   "name": "python3"
  },
  "language_info": {
   "codemirror_mode": {
    "name": "ipython",
    "version": 3
   },
   "file_extension": ".py",
   "mimetype": "text/x-python",
   "name": "python",
   "nbconvert_exporter": "python",
   "pygments_lexer": "ipython3",
   "version": "3.10.4"
  }
 },
 "nbformat": 4,
 "nbformat_minor": 5
}
